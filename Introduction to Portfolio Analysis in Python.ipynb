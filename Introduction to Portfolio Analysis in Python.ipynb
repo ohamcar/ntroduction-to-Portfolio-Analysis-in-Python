{
 "cells": [
  {
   "cell_type": "code",
   "execution_count": 7,
   "id": "7a210e10-1cc3-46d6-9b7a-70f4954ce896",
   "metadata": {},
   "outputs": [],
   "source": [
    "import numpy as np\n",
    "import pandas as pd\n",
    "import requests \n",
    "import xlsxwriter\n",
    "import math\n",
    "import pandas_datareader.data as pdr\n",
    "import yfinance as yf\n",
    "import matplotlib.pyplot as plt\n",
    "from datetime import datetime, timedelta\n",
    "import matplotlib.dates as mdates\n"
   ]
  },
  {
   "cell_type": "code",
   "execution_count": 8,
   "id": "63399459-966e-415b-ae01-4635c99406b9",
   "metadata": {},
   "outputs": [
    {
     "data": {
      "text/html": [
       "<div>\n",
       "<style scoped>\n",
       "    .dataframe tbody tr th:only-of-type {\n",
       "        vertical-align: middle;\n",
       "    }\n",
       "\n",
       "    .dataframe tbody tr th {\n",
       "        vertical-align: top;\n",
       "    }\n",
       "\n",
       "    .dataframe thead th {\n",
       "        text-align: right;\n",
       "    }\n",
       "</style>\n",
       "<table border=\"1\" class=\"dataframe\">\n",
       "  <thead>\n",
       "    <tr style=\"text-align: right;\">\n",
       "      <th>Variable</th>\n",
       "      <th>GE</th>\n",
       "      <th>JPM</th>\n",
       "      <th>MSFT</th>\n",
       "      <th>PG</th>\n",
       "    </tr>\n",
       "    <tr>\n",
       "      <th>date</th>\n",
       "      <th></th>\n",
       "      <th></th>\n",
       "      <th></th>\n",
       "      <th></th>\n",
       "    </tr>\n",
       "  </thead>\n",
       "  <tbody>\n",
       "    <tr>\n",
       "      <th>2015-01-02</th>\n",
       "      <td>25.06</td>\n",
       "      <td>62.49</td>\n",
       "      <td>46.760</td>\n",
       "      <td>90.44</td>\n",
       "    </tr>\n",
       "    <tr>\n",
       "      <th>2015-01-05</th>\n",
       "      <td>24.60</td>\n",
       "      <td>60.55</td>\n",
       "      <td>46.325</td>\n",
       "      <td>90.01</td>\n",
       "    </tr>\n",
       "    <tr>\n",
       "      <th>2015-01-06</th>\n",
       "      <td>24.07</td>\n",
       "      <td>58.98</td>\n",
       "      <td>45.650</td>\n",
       "      <td>89.60</td>\n",
       "    </tr>\n",
       "    <tr>\n",
       "      <th>2015-01-07</th>\n",
       "      <td>24.08</td>\n",
       "      <td>59.07</td>\n",
       "      <td>46.230</td>\n",
       "      <td>90.07</td>\n",
       "    </tr>\n",
       "    <tr>\n",
       "      <th>2015-01-08</th>\n",
       "      <td>24.37</td>\n",
       "      <td>60.39</td>\n",
       "      <td>47.590</td>\n",
       "      <td>91.10</td>\n",
       "    </tr>\n",
       "  </tbody>\n",
       "</table>\n",
       "</div>"
      ],
      "text/plain": [
       "Variable       GE    JPM    MSFT     PG\n",
       "date                                   \n",
       "2015-01-02  25.06  62.49  46.760  90.44\n",
       "2015-01-05  24.60  60.55  46.325  90.01\n",
       "2015-01-06  24.07  58.98  45.650  89.60\n",
       "2015-01-07  24.08  59.07  46.230  90.07\n",
       "2015-01-08  24.37  60.39  47.590  91.10"
      ]
     },
     "execution_count": 8,
     "metadata": {},
     "output_type": "execute_result"
    }
   ],
   "source": [
    "data = (\n",
    "            pd.read_csv(\n",
    "filepath_or_buffer='small_portfolio.csv', header=[0],\n",
    "index_col=0,\n",
    "parse_dates=True\n",
    ")\n",
    "            .rename_axis(columns=['Variable'])\n",
    "        )\n",
    "data.head()"
   ]
  },
  {
   "cell_type": "code",
   "execution_count": 9,
   "id": "02168aec-6e78-4f43-9767-f06674368194",
   "metadata": {},
   "outputs": [
    {
     "data": {
      "text/html": [
       "<div>\n",
       "<style scoped>\n",
       "    .dataframe tbody tr th:only-of-type {\n",
       "        vertical-align: middle;\n",
       "    }\n",
       "\n",
       "    .dataframe tbody tr th {\n",
       "        vertical-align: top;\n",
       "    }\n",
       "\n",
       "    .dataframe thead th {\n",
       "        text-align: right;\n",
       "    }\n",
       "</style>\n",
       "<table border=\"1\" class=\"dataframe\">\n",
       "  <thead>\n",
       "    <tr style=\"text-align: right;\">\n",
       "      <th>Variable</th>\n",
       "      <th>GE</th>\n",
       "      <th>JPM</th>\n",
       "      <th>MSFT</th>\n",
       "      <th>PG</th>\n",
       "    </tr>\n",
       "    <tr>\n",
       "      <th>date</th>\n",
       "      <th></th>\n",
       "      <th></th>\n",
       "      <th></th>\n",
       "      <th></th>\n",
       "    </tr>\n",
       "  </thead>\n",
       "  <tbody>\n",
       "    <tr>\n",
       "      <th>2015-01-02</th>\n",
       "      <td>NaN</td>\n",
       "      <td>NaN</td>\n",
       "      <td>NaN</td>\n",
       "      <td>NaN</td>\n",
       "    </tr>\n",
       "    <tr>\n",
       "      <th>2015-01-05</th>\n",
       "      <td>-0.018356</td>\n",
       "      <td>-0.031045</td>\n",
       "      <td>-0.009303</td>\n",
       "      <td>-0.004755</td>\n",
       "    </tr>\n",
       "    <tr>\n",
       "      <th>2015-01-06</th>\n",
       "      <td>-0.021545</td>\n",
       "      <td>-0.025929</td>\n",
       "      <td>-0.014571</td>\n",
       "      <td>-0.004555</td>\n",
       "    </tr>\n",
       "    <tr>\n",
       "      <th>2015-01-07</th>\n",
       "      <td>0.000415</td>\n",
       "      <td>0.001526</td>\n",
       "      <td>0.012705</td>\n",
       "      <td>0.005246</td>\n",
       "    </tr>\n",
       "    <tr>\n",
       "      <th>2015-01-08</th>\n",
       "      <td>0.012043</td>\n",
       "      <td>0.022346</td>\n",
       "      <td>0.029418</td>\n",
       "      <td>0.011436</td>\n",
       "    </tr>\n",
       "    <tr>\n",
       "      <th>...</th>\n",
       "      <td>...</td>\n",
       "      <td>...</td>\n",
       "      <td>...</td>\n",
       "      <td>...</td>\n",
       "    </tr>\n",
       "    <tr>\n",
       "      <th>2018-03-21</th>\n",
       "      <td>0.017595</td>\n",
       "      <td>0.000872</td>\n",
       "      <td>-0.006979</td>\n",
       "      <td>-0.016218</td>\n",
       "    </tr>\n",
       "    <tr>\n",
       "      <th>2018-03-22</th>\n",
       "      <td>-0.038184</td>\n",
       "      <td>-0.041747</td>\n",
       "      <td>-0.029087</td>\n",
       "      <td>-0.008178</td>\n",
       "    </tr>\n",
       "    <tr>\n",
       "      <th>2018-03-23</th>\n",
       "      <td>-0.020974</td>\n",
       "      <td>-0.026739</td>\n",
       "      <td>-0.029068</td>\n",
       "      <td>-0.006544</td>\n",
       "    </tr>\n",
       "    <tr>\n",
       "      <th>2018-03-26</th>\n",
       "      <td>-0.013772</td>\n",
       "      <td>0.030838</td>\n",
       "      <td>0.075705</td>\n",
       "      <td>0.006587</td>\n",
       "    </tr>\n",
       "    <tr>\n",
       "      <th>2018-03-27</th>\n",
       "      <td>0.042669</td>\n",
       "      <td>-0.019400</td>\n",
       "      <td>-0.045959</td>\n",
       "      <td>0.018060</td>\n",
       "    </tr>\n",
       "  </tbody>\n",
       "</table>\n",
       "<p>813 rows × 4 columns</p>\n",
       "</div>"
      ],
      "text/plain": [
       "Variable          GE       JPM      MSFT        PG\n",
       "date                                              \n",
       "2015-01-02       NaN       NaN       NaN       NaN\n",
       "2015-01-05 -0.018356 -0.031045 -0.009303 -0.004755\n",
       "2015-01-06 -0.021545 -0.025929 -0.014571 -0.004555\n",
       "2015-01-07  0.000415  0.001526  0.012705  0.005246\n",
       "2015-01-08  0.012043  0.022346  0.029418  0.011436\n",
       "...              ...       ...       ...       ...\n",
       "2018-03-21  0.017595  0.000872 -0.006979 -0.016218\n",
       "2018-03-22 -0.038184 -0.041747 -0.029087 -0.008178\n",
       "2018-03-23 -0.020974 -0.026739 -0.029068 -0.006544\n",
       "2018-03-26 -0.013772  0.030838  0.075705  0.006587\n",
       "2018-03-27  0.042669 -0.019400 -0.045959  0.018060\n",
       "\n",
       "[813 rows x 4 columns]"
      ]
     },
     "execution_count": 9,
     "metadata": {},
     "output_type": "execute_result"
    }
   ],
   "source": [
    "returns = data.pct_change()\n",
    "returns"
   ]
  },
  {
   "cell_type": "code",
   "execution_count": null,
   "id": "dcc1be21-7bb6-4e75-b023-83900aa41226",
   "metadata": {},
   "outputs": [],
   "source": []
  },
  {
   "cell_type": "code",
   "execution_count": null,
   "id": "2b993074-3810-42dc-8b38-bf5199019c63",
   "metadata": {},
   "outputs": [],
   "source": []
  },
  {
   "cell_type": "code",
   "execution_count": 10,
   "id": "3e0e8ed0-92fa-4606-ad72-d310082fb2ad",
   "metadata": {},
   "outputs": [
    {
     "data": {
      "image/png": "[encoded data removed]",
      "text/plain": [
       "<Figure size 432x288 with 1 Axes>"
      ]
     },
     "metadata": {
      "needs_background": "light"
     },
     "output_type": "display_data"
    }
   ],
   "source": [
    "returns.plot()\n",
    "plt.xlabel('Date')\n",
    "plt.ylabel('Cumulative Returns (%)')\n",
    "plt.title('Cumulative Returns of Stocks')\n",
    "plt.show()"
   ]
  },
  {
   "cell_type": "code",
   "execution_count": 11,
   "id": "fe289c46-2daa-45f2-94d5-71963a77af36",
   "metadata": {},
   "outputs": [
    {
     "name": "stdout",
     "output_type": "stream",
     "text": [
      "-1.6782226618545438e-05\n"
     ]
    }
   ],
   "source": [
    "meanDailyReturns = returns.mean()  # Exclude the 'portfolio' column\n",
    "weights = np.array([0.5, 0.2, 0.2, 0.1])\n",
    "portReturn = np.sum(meanDailyReturns * weights)\n",
    "\n",
    "print(portReturn)"
   ]
  },
  {
   "cell_type": "code",
   "execution_count": 12,
   "id": "8954cac2-8448-4e12-bfd6-6a82a3f8ab94",
   "metadata": {},
   "outputs": [
    {
     "ename": "AttributeError",
     "evalue": "module 'matplotlib.pyplot' has no attribute 'dates'",
     "output_type": "error",
     "traceback": [
      "\u001b[0;31m---------------------------------------------------------------------------\u001b[0m",
      "\u001b[0;31mAttributeError\u001b[0m                            Traceback (most recent call last)",
      "Input \u001b[0;32mIn [12]\u001b[0m, in \u001b[0;36m<cell line: 11>\u001b[0;34m()\u001b[0m\n\u001b[1;32m      9\u001b[0m fig, ax \u001b[38;5;241m=\u001b[39m plt\u001b[38;5;241m.\u001b[39msubplots()\n\u001b[1;32m     10\u001b[0m ax\u001b[38;5;241m.\u001b[39mplot(daily_cum_ret\u001b[38;5;241m.\u001b[39mindex, daily_cum_ret\u001b[38;5;241m.\u001b[39mPortfolio, color\u001b[38;5;241m=\u001b[39m\u001b[38;5;124m'\u001b[39m\u001b[38;5;124mpurple\u001b[39m\u001b[38;5;124m'\u001b[39m, label\u001b[38;5;241m=\u001b[39m\u001b[38;5;124m\"\u001b[39m\u001b[38;5;124mportfolio\u001b[39m\u001b[38;5;124m\"\u001b[39m)\n\u001b[0;32m---> 11\u001b[0m ax\u001b[38;5;241m.\u001b[39mxaxis\u001b[38;5;241m.\u001b[39mset_major_locator(\u001b[43mplt\u001b[49m\u001b[38;5;241;43m.\u001b[39;49m\u001b[43mdates\u001b[49m\u001b[38;5;241m.\u001b[39mYearLocator())\n\u001b[1;32m     12\u001b[0m plt\u001b[38;5;241m.\u001b[39mlegend()\n\u001b[1;32m     13\u001b[0m plt\u001b[38;5;241m.\u001b[39mshow()\n",
      "\u001b[0;31mAttributeError\u001b[0m: module 'matplotlib.pyplot' has no attribute 'dates'"
     ]
    },
    {
     "data": {
      "image/png": "[encoded data removed]",
      "text/plain": [
       "<Figure size 432x288 with 1 Axes>"
      ]
     },
     "metadata": {
      "needs_background": "light"
     },
     "output_type": "display_data"
    }
   ],
   "source": [
    "# Create portfolio returns column\n",
    "returns['Portfolio']= returns.dot(weights)\n",
    "returns.head()\n",
    "# Calculate cumulative returns\n",
    "daily_cum_ret=(1+returns).cumprod()\n",
    "\n",
    "\n",
    "# Plot the portfolio cumulative returns only\n",
    "fig, ax = plt.subplots()\n",
    "ax.plot(daily_cum_ret.index, daily_cum_ret.Portfolio, color='purple', label=\"portfolio\")\n",
    "ax.xaxis.set_major_locator(plt.dates.YearLocator())\n",
    "plt.legend()\n",
    "plt.show()"
   ]
  },
  {
   "cell_type": "code",
   "execution_count": 13,
   "id": "6dbb48e0-5c5d-4aab-ad9d-fcdd21230d18",
   "metadata": {},
   "outputs": [
    {
     "name": "stdout",
     "output_type": "stream",
     "text": [
      "2.55%\n"
     ]
    }
   ],
   "source": [
    "daily_returns = data.pct_change()\n",
    "weights = np.array([0.05, 0.4, 0.3, 0.25])\n",
    "\n",
    "# Calculate the covariance matrix \n",
    "cov_matrix = (daily_returns.cov())*250\n",
    "\n",
    "# Calculate the portfolio variance\n",
    "port_variance = np.dot(weights.T, np.dot(cov_matrix, weights))\n",
    "\n",
    "# Print the result\n",
    "print(str(np.round(port_variance, 4) * 100) + '%')"
   ]
  },
  {
   "cell_type": "code",
   "execution_count": 14,
   "id": "16c78285-2e1d-415e-b256-6bf0bf833cd3",
   "metadata": {},
   "outputs": [
    {
     "name": "stdout",
     "output_type": "stream",
     "text": [
      "15.959999999999999%\n"
     ]
    }
   ],
   "source": [
    "# Calculate the standard deviation by taking the square root\n",
    "port_standard_dev = np.sqrt(np.dot(weights.T, np.dot(cov_matrix, weights)))\n",
    "\n",
    "# Print the results \n",
    "print(str(np.round(port_standard_dev, 4) * 100) + '%')"
   ]
  },
  {
   "cell_type": "code",
   "execution_count": 15,
   "id": "7c74d755-f16d-4a1b-aa61-f5879a2345b4",
   "metadata": {},
   "outputs": [
    {
     "name": "stdout",
     "output_type": "stream",
     "text": [
      "Variable\n",
      "GE     NaN\n",
      "JPM    NaN\n",
      "MSFT   NaN\n",
      "PG     NaN\n",
      "dtype: float64\n",
      "Variable\n",
      "GE     NaN\n",
      "JPM    NaN\n",
      "MSFT   NaN\n",
      "PG     NaN\n",
      "dtype: float64\n"
     ]
    }
   ],
   "source": [
    "# Calculate total rate of return from portfolio AUM\n",
    "total_return = (daily_returns.iloc[-1] - daily_returns.iloc[0]) / daily_returns.iloc[0]\n",
    "print(total_return)\n",
    "\n",
    "months = 38\n",
    "\n",
    "annualized_return = ((1 + total_return)**(12/months))-1 \n",
    "print(annualized_return)"
   ]
  },
  {
   "cell_type": "code",
   "execution_count": 16,
   "id": "9c5c4c58-bad1-4e92-b845-72e65ee22635",
   "metadata": {},
   "outputs": [
    {
     "data": {
      "text/html": [
       "<div>\n",
       "<style scoped>\n",
       "    .dataframe tbody tr th:only-of-type {\n",
       "        vertical-align: middle;\n",
       "    }\n",
       "\n",
       "    .dataframe tbody tr th {\n",
       "        vertical-align: top;\n",
       "    }\n",
       "\n",
       "    .dataframe thead th {\n",
       "        text-align: right;\n",
       "    }\n",
       "</style>\n",
       "<table border=\"1\" class=\"dataframe\">\n",
       "  <thead>\n",
       "    <tr style=\"text-align: right;\">\n",
       "      <th>Variable</th>\n",
       "      <th>S&amp;P500</th>\n",
       "    </tr>\n",
       "    <tr>\n",
       "      <th>date</th>\n",
       "      <th></th>\n",
       "    </tr>\n",
       "  </thead>\n",
       "  <tbody>\n",
       "    <tr>\n",
       "      <th>2015-02-01</th>\n",
       "      <td>2058.199951</td>\n",
       "    </tr>\n",
       "    <tr>\n",
       "      <th>2015-05-01</th>\n",
       "      <td>2020.579956</td>\n",
       "    </tr>\n",
       "    <tr>\n",
       "      <th>2015-06-01</th>\n",
       "      <td>2002.609985</td>\n",
       "    </tr>\n",
       "    <tr>\n",
       "      <th>2015-07-01</th>\n",
       "      <td>2025.900024</td>\n",
       "    </tr>\n",
       "    <tr>\n",
       "      <th>2015-08-01</th>\n",
       "      <td>2062.139893</td>\n",
       "    </tr>\n",
       "    <tr>\n",
       "      <th>...</th>\n",
       "      <td>...</td>\n",
       "    </tr>\n",
       "    <tr>\n",
       "      <th>2019-03-13</th>\n",
       "      <td>2810.919922</td>\n",
       "    </tr>\n",
       "    <tr>\n",
       "      <th>2019-03-14</th>\n",
       "      <td>2808.479980</td>\n",
       "    </tr>\n",
       "    <tr>\n",
       "      <th>2019-03-15</th>\n",
       "      <td>2822.479980</td>\n",
       "    </tr>\n",
       "    <tr>\n",
       "      <th>2019-03-18</th>\n",
       "      <td>2832.939941</td>\n",
       "    </tr>\n",
       "    <tr>\n",
       "      <th>2019-03-19</th>\n",
       "      <td>2832.570068</td>\n",
       "    </tr>\n",
       "  </tbody>\n",
       "</table>\n",
       "<p>1059 rows × 1 columns</p>\n",
       "</div>"
      ],
      "text/plain": [
       "Variable         S&P500\n",
       "date                   \n",
       "2015-02-01  2058.199951\n",
       "2015-05-01  2020.579956\n",
       "2015-06-01  2002.609985\n",
       "2015-07-01  2025.900024\n",
       "2015-08-01  2062.139893\n",
       "...                 ...\n",
       "2019-03-13  2810.919922\n",
       "2019-03-14  2808.479980\n",
       "2019-03-15  2822.479980\n",
       "2019-03-18  2832.939941\n",
       "2019-03-19  2832.570068\n",
       "\n",
       "[1059 rows x 1 columns]"
      ]
     },
     "execution_count": 16,
     "metadata": {},
     "output_type": "execute_result"
    }
   ],
   "source": [
    "sp500_value = (\n",
    "            pd.read_csv(\n",
    "filepath_or_buffer='sp500.csv', header=[0],\n",
    "index_col=0,\n",
    "parse_dates=True\n",
    ")\n",
    "            .rename_axis(columns=['Variable'])\n",
    "        )\n",
    "sp500_value"
   ]
  },
  {
   "cell_type": "code",
   "execution_count": null,
   "id": "7d17b72c-bc4f-427e-b816-d3ed9c3e54dd",
   "metadata": {},
   "outputs": [],
   "source": []
  },
  {
   "cell_type": "code",
   "execution_count": 17,
   "id": "ef611857-07e6-4a91-9b25-f1d901e1636e",
   "metadata": {},
   "outputs": [
    {
     "name": "stdout",
     "output_type": "stream",
     "text": [
      "Variable\n",
      "S&P500    0.376237\n",
      "dtype: float64\n",
      "Variable\n",
      "S&P500    0.083112\n",
      "dtype: float64\n"
     ]
    }
   ],
   "source": [
    "total_return = (sp500_value.iloc[-1] - sp500_value.iloc[0]) / sp500_value.iloc[0]\n",
    "print(total_return)\n",
    "\n",
    "# Annualize the total return spanning 4 years\n",
    "annualized_return = ((1 + total_return)**(12/48))-1\n",
    "print (annualized_return)"
   ]
  },
  {
   "cell_type": "code",
   "execution_count": 18,
   "id": "f8dc8d24-79c0-4a87-a49c-64951362d2ab",
   "metadata": {},
   "outputs": [
    {
     "data": {
      "text/html": [
       "<div>\n",
       "<style scoped>\n",
       "    .dataframe tbody tr th:only-of-type {\n",
       "        vertical-align: middle;\n",
       "    }\n",
       "\n",
       "    .dataframe tbody tr th {\n",
       "        vertical-align: top;\n",
       "    }\n",
       "\n",
       "    .dataframe thead th {\n",
       "        text-align: right;\n",
       "    }\n",
       "</style>\n",
       "<table border=\"1\" class=\"dataframe\">\n",
       "  <thead>\n",
       "    <tr style=\"text-align: right;\">\n",
       "      <th>Variable</th>\n",
       "      <th>Mkt-RF</th>\n",
       "      <th>SMB</th>\n",
       "      <th>HML</th>\n",
       "      <th>RF</th>\n",
       "      <th>pf_returns</th>\n",
       "    </tr>\n",
       "    <tr>\n",
       "      <th>date</th>\n",
       "      <th></th>\n",
       "      <th></th>\n",
       "      <th></th>\n",
       "      <th></th>\n",
       "      <th></th>\n",
       "    </tr>\n",
       "  </thead>\n",
       "  <tbody>\n",
       "    <tr>\n",
       "      <th>2016-04-01</th>\n",
       "      <td>-1.59</td>\n",
       "      <td>-0.83</td>\n",
       "      <td>0.53</td>\n",
       "      <td>0.000</td>\n",
       "      <td>-1.651745</td>\n",
       "    </tr>\n",
       "    <tr>\n",
       "      <th>2016-05-01</th>\n",
       "      <td>0.12</td>\n",
       "      <td>-0.22</td>\n",
       "      <td>0.01</td>\n",
       "      <td>0.000</td>\n",
       "      <td>0.408161</td>\n",
       "    </tr>\n",
       "    <tr>\n",
       "      <th>2016-06-01</th>\n",
       "      <td>-1.35</td>\n",
       "      <td>-0.12</td>\n",
       "      <td>0.00</td>\n",
       "      <td>0.000</td>\n",
       "      <td>0.325555</td>\n",
       "    </tr>\n",
       "    <tr>\n",
       "      <th>2016-07-01</th>\n",
       "      <td>-2.44</td>\n",
       "      <td>-0.29</td>\n",
       "      <td>0.08</td>\n",
       "      <td>0.000</td>\n",
       "      <td>-0.698259</td>\n",
       "    </tr>\n",
       "    <tr>\n",
       "      <th>2016-08-01</th>\n",
       "      <td>-1.11</td>\n",
       "      <td>-0.47</td>\n",
       "      <td>-0.03</td>\n",
       "      <td>0.000</td>\n",
       "      <td>-0.959352</td>\n",
       "    </tr>\n",
       "    <tr>\n",
       "      <th>...</th>\n",
       "      <td>...</td>\n",
       "      <td>...</td>\n",
       "      <td>...</td>\n",
       "      <td>...</td>\n",
       "      <td>...</td>\n",
       "    </tr>\n",
       "    <tr>\n",
       "      <th>2016-12-23</th>\n",
       "      <td>0.19</td>\n",
       "      <td>0.56</td>\n",
       "      <td>-0.52</td>\n",
       "      <td>0.001</td>\n",
       "      <td>0.438153</td>\n",
       "    </tr>\n",
       "    <tr>\n",
       "      <th>2016-12-27</th>\n",
       "      <td>0.27</td>\n",
       "      <td>0.21</td>\n",
       "      <td>0.13</td>\n",
       "      <td>0.001</td>\n",
       "      <td>0.430411</td>\n",
       "    </tr>\n",
       "    <tr>\n",
       "      <th>2016-12-28</th>\n",
       "      <td>-0.87</td>\n",
       "      <td>-0.27</td>\n",
       "      <td>0.08</td>\n",
       "      <td>0.001</td>\n",
       "      <td>-0.903525</td>\n",
       "    </tr>\n",
       "    <tr>\n",
       "      <th>2016-12-29</th>\n",
       "      <td>-0.04</td>\n",
       "      <td>0.13</td>\n",
       "      <td>-0.31</td>\n",
       "      <td>0.001</td>\n",
       "      <td>0.235954</td>\n",
       "    </tr>\n",
       "    <tr>\n",
       "      <th>2016-12-30</th>\n",
       "      <td>-0.52</td>\n",
       "      <td>-0.11</td>\n",
       "      <td>0.20</td>\n",
       "      <td>0.001</td>\n",
       "      <td>-0.805551</td>\n",
       "    </tr>\n",
       "  </tbody>\n",
       "</table>\n",
       "<p>252 rows × 5 columns</p>\n",
       "</div>"
      ],
      "text/plain": [
       "Variable    Mkt-RF   SMB   HML     RF  pf_returns\n",
       "date                                             \n",
       "2016-04-01   -1.59 -0.83  0.53  0.000   -1.651745\n",
       "2016-05-01    0.12 -0.22  0.01  0.000    0.408161\n",
       "2016-06-01   -1.35 -0.12  0.00  0.000    0.325555\n",
       "2016-07-01   -2.44 -0.29  0.08  0.000   -0.698259\n",
       "2016-08-01   -1.11 -0.47 -0.03  0.000   -0.959352\n",
       "...            ...   ...   ...    ...         ...\n",
       "2016-12-23    0.19  0.56 -0.52  0.001    0.438153\n",
       "2016-12-27    0.27  0.21  0.13  0.001    0.430411\n",
       "2016-12-28   -0.87 -0.27  0.08  0.001   -0.903525\n",
       "2016-12-29   -0.04  0.13 -0.31  0.001    0.235954\n",
       "2016-12-30   -0.52 -0.11  0.20  0.001   -0.805551\n",
       "\n",
       "[252 rows x 5 columns]"
      ]
     },
     "execution_count": 18,
     "metadata": {},
     "output_type": "execute_result"
    }
   ],
   "source": [
    "ff = (\n",
    "            pd.read_csv(\n",
    "filepath_or_buffer='factors_pf_returns.csv', header=[0],\n",
    "index_col=0,\n",
    "parse_dates=True\n",
    ")\n",
    "            .rename_axis(columns=['Variable'])\n",
    "        )\n",
    "ff"
   ]
  },
  {
   "cell_type": "code",
   "execution_count": 19,
   "id": "97703664-1213-4ac9-b140-79419a89267a",
   "metadata": {},
   "outputs": [
    {
     "data": {
      "text/plain": [
       "0.0008412698412698419"
      ]
     },
     "execution_count": 19,
     "metadata": {},
     "output_type": "execute_result"
    }
   ],
   "source": [
    "rfr = ff['RF'].mean()\n",
    "rfr"
   ]
  },
  {
   "cell_type": "code",
   "execution_count": 20,
   "id": "a154caba-5669-4ce1-ac9b-453b1ee8a274",
   "metadata": {},
   "outputs": [
    {
     "name": "stdout",
     "output_type": "stream",
     "text": [
      "Variable      S&P500\n",
      "date                \n",
      "2015-02-01       NaN\n",
      "2015-05-01 -0.018278\n",
      "2015-06-01 -0.008893\n",
      "2015-07-01  0.011630\n",
      "2015-08-01  0.017888\n",
      "...              ...\n",
      "2019-03-13  0.006950\n",
      "2019-03-14 -0.000868\n",
      "2019-03-15  0.004985\n",
      "2019-03-18  0.003706\n",
      "2019-03-19 -0.000131\n",
      "\n",
      "[1059 rows x 1 columns]\n"
     ]
    }
   ],
   "source": [
    "returns_sp500 = sp500_value.pct_change()\n",
    "print(returns_sp500)"
   ]
  },
  {
   "cell_type": "code",
   "execution_count": 21,
   "id": "e644caf8-52b4-4567-86fd-3909b42a86dd",
   "metadata": {},
   "outputs": [
    {
     "name": "stdout",
     "output_type": "stream",
     "text": [
      "Variable\n",
      "S&P500    0.136136\n",
      "dtype: float64\n"
     ]
    }
   ],
   "source": [
    "# Calculate annualized volatility from the standard deviation\n",
    "vol_sp500 = returns_sp500.std() * np.sqrt(250)\n",
    "print(vol_sp500)"
   ]
  },
  {
   "cell_type": "code",
   "execution_count": 22,
   "id": "cbbc3952-0903-461c-bbbf-bbd5d246ba0f",
   "metadata": {},
   "outputs": [
    {
     "name": "stdout",
     "output_type": "stream",
     "text": [
      "Variable\n",
      "S&P500    0.083112\n",
      "dtype: float64\n"
     ]
    }
   ],
   "source": [
    "print(annualized_return)"
   ]
  },
  {
   "cell_type": "code",
   "execution_count": 23,
   "id": "52377bee-7db7-436b-8be1-a087d63dfc43",
   "metadata": {},
   "outputs": [
    {
     "name": "stdout",
     "output_type": "stream",
     "text": [
      "Variable\n",
      "S&P500    0.604324\n",
      "dtype: float64\n"
     ]
    }
   ],
   "source": [
    "# Calculate the Sharpe ratio \n",
    "sharpe_ratio = ((annualized_return - rfr) / vol_sp500)\n",
    "print (sharpe_ratio)"
   ]
  },
  {
   "cell_type": "code",
   "execution_count": 24,
   "id": "a87851ab-5f8d-49fd-82f3-7a0e6739dbad",
   "metadata": {},
   "outputs": [
    {
     "data": {
      "image/png": "[encoded data removed]",
      "text/plain": [
       "<Figure size 432x288 with 1 Axes>"
      ]
     },
     "metadata": {
      "needs_background": "light"
     },
     "output_type": "display_data"
    }
   ],
   "source": [
    "returns_sp500.hist()\n",
    "plt.show()"
   ]
  },
  {
   "cell_type": "code",
   "execution_count": 25,
   "id": "315c4ecd-7c2e-469a-9de3-e792fef4a0c2",
   "metadata": {},
   "outputs": [
    {
     "name": "stdout",
     "output_type": "stream",
     "text": [
      "mean :  Variable\n",
      "S&P500    0.0339\n",
      "dtype: float64\n",
      "Std.dev  :  Variable\n",
      "S&P500    0.861002\n",
      "dtype: float64\n",
      "skew :  Variable\n",
      "S&P500   -0.383199\n",
      "dtype: float64\n",
      "kurt :  Variable\n",
      "S&P500    3.922391\n",
      "dtype: float64\n"
     ]
    }
   ],
   "source": [
    "# Print the mean\n",
    "print(\"mean : \", returns_sp500.mean()*100)\n",
    "\n",
    "# Print the standard deviation\n",
    "print(\"Std.dev  : \", returns_sp500.std()*100)\n",
    "\n",
    "# Print the skewness\n",
    "print(\"skew : \", returns_sp500.skew())\n",
    "\n",
    "# Print the kurtosis\n",
    "print(\"kurt : \", returns_sp500.kurtosis())"
   ]
  },
  {
   "cell_type": "code",
   "execution_count": 26,
   "id": "e831260b-cdc4-48aa-909d-3ddafb8ba16b",
   "metadata": {},
   "outputs": [
    {
     "name": "stdout",
     "output_type": "stream",
     "text": [
      "skew :  Variable\n",
      "GE           0.177313\n",
      "JPM          0.018815\n",
      "MSFT         0.515431\n",
      "PG          -0.259934\n",
      "Portfolio   -0.159476\n",
      "dtype: float64\n",
      "kurt :  Variable\n",
      "GE           7.766370\n",
      "JPM          3.831448\n",
      "MSFT         9.882177\n",
      "PG           2.848092\n",
      "Portfolio    3.547200\n",
      "dtype: float64\n"
     ]
    },
    {
     "data": {
      "image/png": "[encoded data removed]",
      "text/plain": [
       "<Figure size 432x288 with 6 Axes>"
      ]
     },
     "metadata": {
      "needs_background": "light"
     },
     "output_type": "display_data"
    }
   ],
   "source": [
    "# Print the histograms of the stocks in the portfolio\n",
    "returns.hist()\n",
    "\n",
    "# Print skewness and kurtosis of the stocks\n",
    "print (\"skew : \", returns.skew())\n",
    "print (\"kurt : \", returns.kurtosis())"
   ]
  },
  {
   "cell_type": "code",
   "execution_count": 27,
   "id": "047a76a1-c2fb-4806-baa8-c0aab66b3a13",
   "metadata": {},
   "outputs": [
    {
     "data": {
      "text/html": [
       "<div>\n",
       "<style scoped>\n",
       "    .dataframe tbody tr th:only-of-type {\n",
       "        vertical-align: middle;\n",
       "    }\n",
       "\n",
       "    .dataframe tbody tr th {\n",
       "        vertical-align: top;\n",
       "    }\n",
       "\n",
       "    .dataframe thead th {\n",
       "        text-align: right;\n",
       "    }\n",
       "</style>\n",
       "<table border=\"1\" class=\"dataframe\">\n",
       "  <thead>\n",
       "    <tr style=\"text-align: right;\">\n",
       "      <th>Variable</th>\n",
       "      <th>S&amp;P500</th>\n",
       "    </tr>\n",
       "    <tr>\n",
       "      <th>date</th>\n",
       "      <th></th>\n",
       "    </tr>\n",
       "  </thead>\n",
       "  <tbody>\n",
       "    <tr>\n",
       "      <th>2015-02-01</th>\n",
       "      <td>NaN</td>\n",
       "    </tr>\n",
       "    <tr>\n",
       "      <th>2015-05-01</th>\n",
       "      <td>-0.018278</td>\n",
       "    </tr>\n",
       "    <tr>\n",
       "      <th>2015-06-01</th>\n",
       "      <td>-0.008893</td>\n",
       "    </tr>\n",
       "    <tr>\n",
       "      <th>2015-07-01</th>\n",
       "      <td>0.011630</td>\n",
       "    </tr>\n",
       "    <tr>\n",
       "      <th>2015-08-01</th>\n",
       "      <td>0.017888</td>\n",
       "    </tr>\n",
       "    <tr>\n",
       "      <th>...</th>\n",
       "      <td>...</td>\n",
       "    </tr>\n",
       "    <tr>\n",
       "      <th>2019-03-13</th>\n",
       "      <td>0.006950</td>\n",
       "    </tr>\n",
       "    <tr>\n",
       "      <th>2019-03-14</th>\n",
       "      <td>-0.000868</td>\n",
       "    </tr>\n",
       "    <tr>\n",
       "      <th>2019-03-15</th>\n",
       "      <td>0.004985</td>\n",
       "    </tr>\n",
       "    <tr>\n",
       "      <th>2019-03-18</th>\n",
       "      <td>0.003706</td>\n",
       "    </tr>\n",
       "    <tr>\n",
       "      <th>2019-03-19</th>\n",
       "      <td>-0.000131</td>\n",
       "    </tr>\n",
       "  </tbody>\n",
       "</table>\n",
       "<p>1059 rows × 1 columns</p>\n",
       "</div>"
      ],
      "text/plain": [
       "Variable      S&P500\n",
       "date                \n",
       "2015-02-01       NaN\n",
       "2015-05-01 -0.018278\n",
       "2015-06-01 -0.008893\n",
       "2015-07-01  0.011630\n",
       "2015-08-01  0.017888\n",
       "...              ...\n",
       "2019-03-13  0.006950\n",
       "2019-03-14 -0.000868\n",
       "2019-03-15  0.004985\n",
       "2019-03-18  0.003706\n",
       "2019-03-19 -0.000131\n",
       "\n",
       "[1059 rows x 1 columns]"
      ]
     },
     "execution_count": 27,
     "metadata": {},
     "output_type": "execute_result"
    }
   ],
   "source": [
    "pf_returns = sp500_value.pct_change()\n",
    "pf_returns"
   ]
  },
  {
   "cell_type": "code",
   "execution_count": 28,
   "id": "590d4a39-cfd0-40fe-aa57-83f498bcf4db",
   "metadata": {},
   "outputs": [
    {
     "name": "stdout",
     "output_type": "stream",
     "text": [
      "Expected return:  0.03389998442910263\n",
      "Downside risk:  Variable\n",
      "S&P500    0.861002\n",
      "dtype: float64\n",
      "Sortino ratio:  Variable\n",
      "S&P500   -0.058336\n",
      "dtype: float64\n"
     ]
    }
   ],
   "source": [
    "target = 0.8\n",
    "downside_returns = pf_returns.loc[pf_returns['S&P500'] < target]\n",
    "\n",
    "# Calculate expected return and std dev of downside\n",
    "expected_return = pf_returns['S&P500'].mean()\n",
    "down_stdev = downside_returns.std()\n",
    "\n",
    "# Calculate the sortino ratio\n",
    "sortino_ratio = (expected_return - rfr) / down_stdev\n",
    "\n",
    "# Print the results\n",
    "print(\"Expected return: \", expected_return * 100)\n",
    "print(\"Downside risk: \", down_stdev * 100)\n",
    "print(\"Sortino ratio: \", sortino_ratio)\n"
   ]
  },
  {
   "cell_type": "code",
   "execution_count": 33,
   "id": "8f984e54-8a28-40ec-9691-71204d99b734",
   "metadata": {},
   "outputs": [
    {
     "ename": "KeyError",
     "evalue": "'date'",
     "output_type": "error",
     "traceback": [
      "\u001b[0;31m---------------------------------------------------------------------------\u001b[0m",
      "\u001b[0;31mKeyError\u001b[0m                                  Traceback (most recent call last)",
      "File \u001b[0;32m~/opt/anaconda3/lib/python3.9/site-packages/pandas/core/indexes/base.py:3621\u001b[0m, in \u001b[0;36mIndex.get_loc\u001b[0;34m(self, key, method, tolerance)\u001b[0m\n\u001b[1;32m   3620\u001b[0m \u001b[38;5;28;01mtry\u001b[39;00m:\n\u001b[0;32m-> 3621\u001b[0m     \u001b[38;5;28;01mreturn\u001b[39;00m \u001b[38;5;28;43mself\u001b[39;49m\u001b[38;5;241;43m.\u001b[39;49m\u001b[43m_engine\u001b[49m\u001b[38;5;241;43m.\u001b[39;49m\u001b[43mget_loc\u001b[49m\u001b[43m(\u001b[49m\u001b[43mcasted_key\u001b[49m\u001b[43m)\u001b[49m\n\u001b[1;32m   3622\u001b[0m \u001b[38;5;28;01mexcept\u001b[39;00m \u001b[38;5;167;01mKeyError\u001b[39;00m \u001b[38;5;28;01mas\u001b[39;00m err:\n",
      "File \u001b[0;32m~/opt/anaconda3/lib/python3.9/site-packages/pandas/_libs/index.pyx:136\u001b[0m, in \u001b[0;36mpandas._libs.index.IndexEngine.get_loc\u001b[0;34m()\u001b[0m\n",
      "File \u001b[0;32m~/opt/anaconda3/lib/python3.9/site-packages/pandas/_libs/index.pyx:163\u001b[0m, in \u001b[0;36mpandas._libs.index.IndexEngine.get_loc\u001b[0;34m()\u001b[0m\n",
      "File \u001b[0;32mpandas/_libs/hashtable_class_helper.pxi:5198\u001b[0m, in \u001b[0;36mpandas._libs.hashtable.PyObjectHashTable.get_item\u001b[0;34m()\u001b[0m\n",
      "File \u001b[0;32mpandas/_libs/hashtable_class_helper.pxi:5206\u001b[0m, in \u001b[0;36mpandas._libs.hashtable.PyObjectHashTable.get_item\u001b[0;34m()\u001b[0m\n",
      "\u001b[0;31mKeyError\u001b[0m: 'date'",
      "\nThe above exception was the direct cause of the following exception:\n",
      "\u001b[0;31mKeyError\u001b[0m                                  Traceback (most recent call last)",
      "Input \u001b[0;32mIn [33]\u001b[0m, in \u001b[0;36m<cell line: 9>\u001b[0;34m()\u001b[0m\n\u001b[1;32m      5\u001b[0m daily_draw_down \u001b[38;5;241m=\u001b[39m returns\u001b[38;5;241m/\u001b[39mroll_max \u001b[38;5;241m-\u001b[39m \u001b[38;5;241m1\u001b[39m\n\u001b[1;32m      7\u001b[0m max_daily_draw_down \u001b[38;5;241m=\u001b[39m daily_draw_down\u001b[38;5;241m.\u001b[39mrolling(center\u001b[38;5;241m=\u001b[39m\u001b[38;5;28;01mFalse\u001b[39;00m,min_periods\u001b[38;5;241m=\u001b[39m\u001b[38;5;241m1\u001b[39m,window\u001b[38;5;241m=\u001b[39m\u001b[38;5;241m252\u001b[39m)\u001b[38;5;241m.\u001b[39mmin()\n\u001b[0;32m----> 9\u001b[0m date \u001b[38;5;241m=\u001b[39m \u001b[43mreturns\u001b[49m\u001b[43m[\u001b[49m\u001b[38;5;124;43m'\u001b[39;49m\u001b[38;5;124;43mdate\u001b[39;49m\u001b[38;5;124;43m'\u001b[39;49m\u001b[43m]\u001b[49m\n\u001b[1;32m     11\u001b[0m \u001b[38;5;66;03m# Plot the results\u001b[39;00m\n\u001b[1;32m     12\u001b[0m plt\u001b[38;5;241m.\u001b[39mfigure(figsize\u001b[38;5;241m=\u001b[39m(\u001b[38;5;241m15\u001b[39m, \u001b[38;5;241m15\u001b[39m))\n",
      "File \u001b[0;32m~/opt/anaconda3/lib/python3.9/site-packages/pandas/core/frame.py:3505\u001b[0m, in \u001b[0;36mDataFrame.__getitem__\u001b[0;34m(self, key)\u001b[0m\n\u001b[1;32m   3503\u001b[0m \u001b[38;5;28;01mif\u001b[39;00m \u001b[38;5;28mself\u001b[39m\u001b[38;5;241m.\u001b[39mcolumns\u001b[38;5;241m.\u001b[39mnlevels \u001b[38;5;241m>\u001b[39m \u001b[38;5;241m1\u001b[39m:\n\u001b[1;32m   3504\u001b[0m     \u001b[38;5;28;01mreturn\u001b[39;00m \u001b[38;5;28mself\u001b[39m\u001b[38;5;241m.\u001b[39m_getitem_multilevel(key)\n\u001b[0;32m-> 3505\u001b[0m indexer \u001b[38;5;241m=\u001b[39m \u001b[38;5;28;43mself\u001b[39;49m\u001b[38;5;241;43m.\u001b[39;49m\u001b[43mcolumns\u001b[49m\u001b[38;5;241;43m.\u001b[39;49m\u001b[43mget_loc\u001b[49m\u001b[43m(\u001b[49m\u001b[43mkey\u001b[49m\u001b[43m)\u001b[49m\n\u001b[1;32m   3506\u001b[0m \u001b[38;5;28;01mif\u001b[39;00m is_integer(indexer):\n\u001b[1;32m   3507\u001b[0m     indexer \u001b[38;5;241m=\u001b[39m [indexer]\n",
      "File \u001b[0;32m~/opt/anaconda3/lib/python3.9/site-packages/pandas/core/indexes/base.py:3623\u001b[0m, in \u001b[0;36mIndex.get_loc\u001b[0;34m(self, key, method, tolerance)\u001b[0m\n\u001b[1;32m   3621\u001b[0m     \u001b[38;5;28;01mreturn\u001b[39;00m \u001b[38;5;28mself\u001b[39m\u001b[38;5;241m.\u001b[39m_engine\u001b[38;5;241m.\u001b[39mget_loc(casted_key)\n\u001b[1;32m   3622\u001b[0m \u001b[38;5;28;01mexcept\u001b[39;00m \u001b[38;5;167;01mKeyError\u001b[39;00m \u001b[38;5;28;01mas\u001b[39;00m err:\n\u001b[0;32m-> 3623\u001b[0m     \u001b[38;5;28;01mraise\u001b[39;00m \u001b[38;5;167;01mKeyError\u001b[39;00m(key) \u001b[38;5;28;01mfrom\u001b[39;00m \u001b[38;5;21;01merr\u001b[39;00m\n\u001b[1;32m   3624\u001b[0m \u001b[38;5;28;01mexcept\u001b[39;00m \u001b[38;5;167;01mTypeError\u001b[39;00m:\n\u001b[1;32m   3625\u001b[0m     \u001b[38;5;66;03m# If we have a listlike key, _check_indexing_error will raise\u001b[39;00m\n\u001b[1;32m   3626\u001b[0m     \u001b[38;5;66;03m#  InvalidIndexError. Otherwise we fall through and re-raise\u001b[39;00m\n\u001b[1;32m   3627\u001b[0m     \u001b[38;5;66;03m#  the TypeError.\u001b[39;00m\n\u001b[1;32m   3628\u001b[0m     \u001b[38;5;28mself\u001b[39m\u001b[38;5;241m.\u001b[39m_check_indexing_error(key)\n",
      "\u001b[0;31mKeyError\u001b[0m: 'date'"
     ]
    }
   ],
   "source": [
    "# Calculate the max value \n",
    "roll_max = returns.rolling(center=False,min_periods=1,window=252).max()\n",
    "\n",
    "# Calculate the daily draw-down relative to the max\n",
    "daily_draw_down = returns/roll_max - 1\n",
    "\n",
    "max_daily_draw_down = daily_draw_down.rolling(center=False,min_periods=1,window=252).min()\n",
    "\n",
    "date = returns['date']\n",
    "\n",
    "# Plot the results\n",
    "plt.figure(figsize=(15, 15))\n",
    "plt.plot(date, daily_draw_down, label='Daily drawdown')\n",
    "plt.plot(date, max_daily_draw_down, label='Maximum daily drawdown in time-window')\n",
    "plt.legend()\n",
    "plt.show()"
   ]
  },
  {
   "cell_type": "code",
   "execution_count": null,
   "id": "f05ece35-2d62-4f11-86f2-0512dd210a8e",
   "metadata": {},
   "outputs": [],
   "source": []
  },
  {
   "cell_type": "code",
   "execution_count": null,
   "id": "88373023-db73-4f7d-8835-662ab73cd915",
   "metadata": {},
   "outputs": [],
   "source": []
  },
  {
   "cell_type": "code",
   "execution_count": null,
   "id": "6d8fd80d-b0f7-45e0-b955-f33e42701ee2",
   "metadata": {},
   "outputs": [],
   "source": []
  },
  {
   "cell_type": "code",
   "execution_count": null,
   "id": "4ae1d9d2-337a-4b1a-9438-dd88f425eb6a",
   "metadata": {},
   "outputs": [],
   "source": []
  },
  {
   "cell_type": "code",
   "execution_count": null,
   "id": "addc68e8-35bb-4351-9e50-7cd12e5ed8a4",
   "metadata": {},
   "outputs": [],
   "source": []
  },
  {
   "cell_type": "code",
   "execution_count": null,
   "id": "7e961b09-baf9-4214-be0d-09ac0e017c34",
   "metadata": {},
   "outputs": [],
   "source": []
  }
 ],
 "metadata": {
  "kernelspec": {
   "display_name": "Python 3 (ipykernel)",
   "language": "python",
   "name": "python3"
  },
  "language_info": {
   "codemirror_mode": {
    "name": "ipython",
    "version": 3
   },
   "file_extension": ".py",
   "mimetype": "text/x-python",
   "name": "python",
   "nbconvert_exporter": "python",
   "pygments_lexer": "ipython3",
   "version": "3.9.12"
  }
 },
 "nbformat": 4,
 "nbformat_minor": 5
}
